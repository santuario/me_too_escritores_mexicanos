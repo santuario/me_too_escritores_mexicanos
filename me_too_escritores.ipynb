{
 "cells": [
  {
   "cell_type": "markdown",
   "metadata": {},
   "source": [
    "# #MeTooEscritoresMexicanos"
   ]
  },
  {
   "cell_type": "markdown",
   "metadata": {},
   "source": [
    "Análisis de los tweets de la cuenta [@MeTooEscritores](https://twitter.com/MeTooEscritores)"
   ]
  },
  {
   "cell_type": "code",
   "execution_count": 226,
   "metadata": {},
   "outputs": [],
   "source": [
    "# Importemos los módulos Pandas y Matplotlib\n",
    "import pandas as pd"
   ]
  },
  {
   "cell_type": "code",
   "execution_count": 227,
   "metadata": {},
   "outputs": [],
   "source": [
    "import matplotlib.pyplot as plt"
   ]
  },
  {
   "cell_type": "code",
   "execution_count": 228,
   "metadata": {},
   "outputs": [],
   "source": [
    "# Leamos el *dataset*\n",
    "escritores_df = pd.read_csv(\"data/me_too_escritores_mexicanos.csv\")"
   ]
  },
  {
   "cell_type": "code",
   "execution_count": 229,
   "metadata": {},
   "outputs": [
    {
     "data": {
      "text/plain": [
       "(214, 2)"
      ]
     },
     "execution_count": 229,
     "metadata": {},
     "output_type": "execute_result"
    }
   ],
   "source": [
    "# Veamos cuántas columnas y filas tiene nuestro *dataframe*\n",
    "escritores_df.shape"
   ]
  },
  {
   "cell_type": "code",
   "execution_count": 230,
   "metadata": {},
   "outputs": [
    {
     "data": {
      "text/html": [
       "<div>\n",
       "<style scoped>\n",
       "    .dataframe tbody tr th:only-of-type {\n",
       "        vertical-align: middle;\n",
       "    }\n",
       "\n",
       "    .dataframe tbody tr th {\n",
       "        vertical-align: top;\n",
       "    }\n",
       "\n",
       "    .dataframe thead th {\n",
       "        text-align: right;\n",
       "    }\n",
       "</style>\n",
       "<table border=\"1\" class=\"dataframe\">\n",
       "  <thead>\n",
       "    <tr style=\"text-align: right;\">\n",
       "      <th></th>\n",
       "      <th>nombres</th>\n",
       "      <th>link</th>\n",
       "    </tr>\n",
       "  </thead>\n",
       "  <tbody>\n",
       "    <tr>\n",
       "      <th>0</th>\n",
       "      <td>Ernesto Ayala</td>\n",
       "      <td>https://twitter.com/MeTooEscritores/status/110...</td>\n",
       "    </tr>\n",
       "    <tr>\n",
       "      <th>1</th>\n",
       "      <td>Julio Trujillo</td>\n",
       "      <td>https://twitter.com/MeTooEscritores/status/110...</td>\n",
       "    </tr>\n",
       "    <tr>\n",
       "      <th>2</th>\n",
       "      <td>Álvaro Luquín</td>\n",
       "      <td>https://twitter.com/MeTooEscritores/status/110...</td>\n",
       "    </tr>\n",
       "    <tr>\n",
       "      <th>3</th>\n",
       "      <td>Ricardo Venegas</td>\n",
       "      <td>https://twitter.com/MeTooEscritores/status/110...</td>\n",
       "    </tr>\n",
       "    <tr>\n",
       "      <th>4</th>\n",
       "      <td>Gabriel Rodriguez Liceaga</td>\n",
       "      <td>https://twitter.com/MeTooEscritores/status/110...</td>\n",
       "    </tr>\n",
       "  </tbody>\n",
       "</table>\n",
       "</div>"
      ],
      "text/plain": [
       "                     nombres  \\\n",
       "0              Ernesto Ayala   \n",
       "1             Julio Trujillo   \n",
       "2              Álvaro Luquín   \n",
       "3            Ricardo Venegas   \n",
       "4  Gabriel Rodriguez Liceaga   \n",
       "\n",
       "                                                link  \n",
       "0  https://twitter.com/MeTooEscritores/status/110...  \n",
       "1  https://twitter.com/MeTooEscritores/status/110...  \n",
       "2  https://twitter.com/MeTooEscritores/status/110...  \n",
       "3  https://twitter.com/MeTooEscritores/status/110...  \n",
       "4  https://twitter.com/MeTooEscritores/status/110...  "
      ]
     },
     "execution_count": 230,
     "metadata": {},
     "output_type": "execute_result"
    }
   ],
   "source": [
    "escritores_df.head()"
   ]
  },
  {
   "cell_type": "code",
   "execution_count": 231,
   "metadata": {},
   "outputs": [],
   "source": [
    "escritores_unicos = escritores_df.nombres.unique()"
   ]
  },
  {
   "cell_type": "code",
   "execution_count": 232,
   "metadata": {},
   "outputs": [
    {
     "data": {
      "text/plain": [
       "134"
      ]
     },
     "execution_count": 232,
     "metadata": {},
     "output_type": "execute_result"
    }
   ],
   "source": [
    "# Contemos cuántos *escritores* diferenten se mencionan\n",
    "len(escritores_unicos)"
   ]
  },
  {
   "cell_type": "code",
   "execution_count": 233,
   "metadata": {},
   "outputs": [],
   "source": [
    "# Guardemos los nombres de los *escritores* con las veces que se mencionarion en los *tweets*\n",
    "escritores_df[\"nombres\"].value_counts(sort=True, ascending=False).to_csv(\"data/escritores_conteo.csv\", header=False)"
   ]
  },
  {
   "cell_type": "code",
   "execution_count": 235,
   "metadata": {},
   "outputs": [
    {
     "data": {
      "image/png": "[encoded data removed]",
      "text/plain": [
       "<Figure size 432x288 with 1 Axes>"
      ]
     },
     "metadata": {
      "needs_background": "light"
     },
     "output_type": "display_data"
    }
   ],
   "source": [
    "# Grafiquemos\n",
    "escritores_df[\"nombres\"].value_counts().sort_values(ascending=True).tail(20).plot.barh(color=(207/255,109/255,223/255))\n",
    "#plt.title(\"#MeTooEscritoresMexicanos (23/Mar 22:44hrs)\", size=22, weight=\"bold\")\n",
    "plt.xlabel(\"Menciones en @MeTooEscritores\")\n",
    "plt.tight_layout()\n",
    "plt.savefig(\"escritores.png\",dpi=300, transparent=True)"
   ]
  }
 ],
 "metadata": {
  "kernelspec": {
   "display_name": "Python 3",
   "language": "python",
   "name": "python3"
  },
  "language_info": {
   "codemirror_mode": {
    "name": "ipython",
    "version": 3
   },
   "file_extension": ".py",
   "mimetype": "text/x-python",
   "name": "python",
   "nbconvert_exporter": "python",
   "pygments_lexer": "ipython3",
   "version": "3.6.8"
  }
 },
 "nbformat": 4,
 "nbformat_minor": 2
}
