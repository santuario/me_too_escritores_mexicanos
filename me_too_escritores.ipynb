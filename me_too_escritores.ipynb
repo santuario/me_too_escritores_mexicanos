{
 "cells": [
  {
   "cell_type": "markdown",
   "metadata": {},
   "source": [
    "# #MeTooEscritoresMexicanos"
   ]
  },
  {
   "cell_type": "code",
   "execution_count": 176,
   "metadata": {},
   "outputs": [],
   "source": [
    "import pandas as pd"
   ]
  },
  {
   "cell_type": "code",
   "execution_count": 177,
   "metadata": {},
   "outputs": [],
   "source": [
    "import matplotlib.pyplot as plt"
   ]
  },
  {
   "cell_type": "code",
   "execution_count": 178,
   "metadata": {},
   "outputs": [],
   "source": [
    "escritores_df = pd.read_csv(\"data/me_too_escritores_mexicanos.csv\")"
   ]
  },
  {
   "cell_type": "code",
   "execution_count": 179,
   "metadata": {},
   "outputs": [
    {
     "data": {
      "text/plain": [
       "(169, 2)"
      ]
     },
     "execution_count": 179,
     "metadata": {},
     "output_type": "execute_result"
    }
   ],
   "source": [
    "escritores_df.shape"
   ]
  },
  {
   "cell_type": "code",
   "execution_count": 180,
   "metadata": {},
   "outputs": [
    {
     "data": {
      "text/html": [
       "<div>\n",
       "<style scoped>\n",
       "    .dataframe tbody tr th:only-of-type {\n",
       "        vertical-align: middle;\n",
       "    }\n",
       "\n",
       "    .dataframe tbody tr th {\n",
       "        vertical-align: top;\n",
       "    }\n",
       "\n",
       "    .dataframe thead th {\n",
       "        text-align: right;\n",
       "    }\n",
       "</style>\n",
       "<table border=\"1\" class=\"dataframe\">\n",
       "  <thead>\n",
       "    <tr style=\"text-align: right;\">\n",
       "      <th></th>\n",
       "      <th>nombres</th>\n",
       "      <th>link</th>\n",
       "    </tr>\n",
       "  </thead>\n",
       "  <tbody>\n",
       "    <tr>\n",
       "      <th>0</th>\n",
       "      <td>Ernesto Ayala</td>\n",
       "      <td>https://twitter.com/MeTooEscritores/status/110...</td>\n",
       "    </tr>\n",
       "    <tr>\n",
       "      <th>1</th>\n",
       "      <td>Julio Trujillo</td>\n",
       "      <td>https://twitter.com/MeTooEscritores/status/110...</td>\n",
       "    </tr>\n",
       "    <tr>\n",
       "      <th>2</th>\n",
       "      <td>Álvaro Luquín</td>\n",
       "      <td>https://twitter.com/MeTooEscritores/status/110...</td>\n",
       "    </tr>\n",
       "    <tr>\n",
       "      <th>3</th>\n",
       "      <td>Ricardo Venegas</td>\n",
       "      <td>https://twitter.com/MeTooEscritores/status/110...</td>\n",
       "    </tr>\n",
       "    <tr>\n",
       "      <th>4</th>\n",
       "      <td>Gabriel Rodriguez Liceaga</td>\n",
       "      <td>https://twitter.com/MeTooEscritores/status/110...</td>\n",
       "    </tr>\n",
       "  </tbody>\n",
       "</table>\n",
       "</div>"
      ],
      "text/plain": [
       "                     nombres  \\\n",
       "0              Ernesto Ayala   \n",
       "1             Julio Trujillo   \n",
       "2              Álvaro Luquín   \n",
       "3            Ricardo Venegas   \n",
       "4  Gabriel Rodriguez Liceaga   \n",
       "\n",
       "                                                link  \n",
       "0  https://twitter.com/MeTooEscritores/status/110...  \n",
       "1  https://twitter.com/MeTooEscritores/status/110...  \n",
       "2  https://twitter.com/MeTooEscritores/status/110...  \n",
       "3  https://twitter.com/MeTooEscritores/status/110...  \n",
       "4  https://twitter.com/MeTooEscritores/status/110...  "
      ]
     },
     "execution_count": 180,
     "metadata": {},
     "output_type": "execute_result"
    }
   ],
   "source": [
    "escritores_df.head()"
   ]
  },
  {
   "cell_type": "code",
   "execution_count": 181,
   "metadata": {},
   "outputs": [],
   "source": [
    "escritores_unicos = escritores_df.nombres.unique()"
   ]
  },
  {
   "cell_type": "code",
   "execution_count": 182,
   "metadata": {},
   "outputs": [
    {
     "data": {
      "text/plain": [
       "112"
      ]
     },
     "execution_count": 182,
     "metadata": {},
     "output_type": "execute_result"
    }
   ],
   "source": [
    "len(escritores_unicos)"
   ]
  },
  {
   "cell_type": "code",
   "execution_count": 183,
   "metadata": {},
   "outputs": [
    {
     "data": {
      "text/plain": [
       "Ernesto Ayala                   1\n",
       "Pablo Mata Olay                 1\n",
       "Enrique Galván Ochoa            1\n",
       "Alejandro Vázquez               1\n",
       "Jesús De la Peña Rosas          1\n",
       "Daniel Miranda Terres           1\n",
       "Ricardo Venegas                 1\n",
       "Ignacio Solares                 1\n",
       "Mauricio Montiel                1\n",
       "Armando Salgado                 1\n",
       "José Luis Rico                  1\n",
       "Luis Emilio Medina Medina       1\n",
       "Francisco Martín Moreno         1\n",
       "Bernardo Ruiz                   1\n",
       "Eder Juárez                     1\n",
       "Jorge Solís Arenazas            1\n",
       "Waldo Leyva                     1\n",
       "Dalí Corona                     1\n",
       "Paul Carrillo Collazo           1\n",
       "Aurelio Meza                    1\n",
       "Gabriel Rodriguez Liceaga       1\n",
       "Jorge Borja                     1\n",
       "Álvaro Enrigue                  1\n",
       "Carlos H. Vázquez               1\n",
       "José Ramón Ruisánchez           1\n",
       "Jorge Mendoza                   1\n",
       "Cristian Martín Padilla Vega    1\n",
       "Martín Rangel                   1\n",
       "Alfonso Salas                   1\n",
       "Juan Carlos Reyna               1\n",
       "                               ..\n",
       "Arturo Loera                    2\n",
       "Carlos Chávez                   2\n",
       "Pierre Herrera                  2\n",
       "Iván Trejo                      2\n",
       "Jaime Mesa                      2\n",
       "Irving Ramírez                  2\n",
       "Inti García Santamaría          2\n",
       "David Martínez                  2\n",
       "Rafael Fernández de Castro      2\n",
       "Julio Trujillo                  2\n",
       "Alejandro Almazán               2\n",
       "José Pulido                     2\n",
       "Gabriel Sandoval                2\n",
       "Ramón Domínguez                 2\n",
       "Mohsen Emadi                    2\n",
       "Román Sansores                  2\n",
       "Joaquín de la Torre             2\n",
       "Mario González Suárez           2\n",
       "Fausto Alzati                   3\n",
       "Carlos Velázquez                3\n",
       "Gerardo Grande                  3\n",
       "Fernando Carrera                3\n",
       "Andrés Márquez Mardones         3\n",
       "Alfredo Padilla                 4\n",
       "Luciano Concheiro               4\n",
       "José Quezada                    4\n",
       "Herson Barona                   4\n",
       "Rodrigo Castillo                5\n",
       "Carlos Martínez Rentería        5\n",
       "Álvaro Luquín                   5\n",
       "Name: nombres, Length: 112, dtype: int64"
      ]
     },
     "execution_count": 183,
     "metadata": {},
     "output_type": "execute_result"
    }
   ],
   "source": [
    "escritores_df[\"nombres\"].value_counts(sort=True, ascending=True)"
   ]
  },
  {
   "cell_type": "code",
   "execution_count": 186,
   "metadata": {},
   "outputs": [
    {
     "data": {
      "image/png": "[encoded data removed]",
      "text/plain": [
       "<Figure size 432x288 with 1 Axes>"
      ]
     },
     "metadata": {
      "needs_background": "light"
     },
     "output_type": "display_data"
    }
   ],
   "source": [
    "escritores_df[\"nombres\"].value_counts().sort_values(ascending=True).tail(15).plot.barh(color=(207/255,109/255,223/255))\n",
    "#plt.title(\"#MeTooEscritoresMexicanos (23/Mar 22:44hrs)\", size=22, weight=\"bold\")\n",
    "plt.xlabel(\"Menciones en @MeTooEscritores\")\n",
    "plt.tight_layout()\n",
    "plt.savefig(\"escritores.png\",dpi=300, transparent=True)"
   ]
  }
 ],
 "metadata": {
  "kernelspec": {
   "display_name": "Python 3",
   "language": "python",
   "name": "python3"
  },
  "language_info": {
   "codemirror_mode": {
    "name": "ipython",
    "version": 3
   },
   "file_extension": ".py",
   "mimetype": "text/x-python",
   "name": "python",
   "nbconvert_exporter": "python",
   "pygments_lexer": "ipython3",
   "version": "3.6.8"
  }
 },
 "nbformat": 4,
 "nbformat_minor": 2
}
